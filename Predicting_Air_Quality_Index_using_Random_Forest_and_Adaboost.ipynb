{
  "nbformat": 4,
  "nbformat_minor": 0,
  "metadata": {
    "colab": {
      "provenance": []
    },
    "kernelspec": {
      "name": "python3",
      "display_name": "Python 3"
    },
    "language_info": {
      "name": "python"
    }
  },
  "cells": [
    {
      "cell_type": "markdown",
      "source": [
        "**AQI:** The air quality index is an index for reporting air quality on a daily basis.\n",
        "\n",
        "AQI Level\tAQI Range\n",
        "* Good\t0 – 50\n",
        "* Moderate\t51 – 100\n",
        "* Unhealthy\t101 – 150\n",
        "* Unhealthy for Strong People\t151 – 200\n",
        "* Hazardous\t201+\n",
        "\n",
        "Information on the dataset:\n",
        "\n",
        "It contains 7 attributes, of which 6 are chemical pollution quantities and one is Air Quality Index. AQI Value, CO AQI Value, Ozone AQI Value, NO2 AQI Value, PM2.5 AQI Value, lat,LNG are independent attributes. air_quality_index is a dependent attribute. Since air_quality_index is calculated based on the 7 attributes."
      ],
      "metadata": {
        "id": "1h8BENVeKicG"
      }
    },
    {
      "cell_type": "code",
      "execution_count": null,
      "metadata": {
        "id": "llmNHNKeKfjr"
      },
      "outputs": [],
      "source": []
    }
  ]
}